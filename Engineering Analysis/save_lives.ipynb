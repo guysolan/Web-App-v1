{
 "cells": [
  {
   "cell_type": "markdown",
   "metadata": {},
   "source": [
    "### Perceptual AI\n",
    "\n",
    "Create classes to emulate AI algorithms. Give a runtime, efficacy, specific output etc.\n",
    "\n",
    "Create a mock algorithm to choose which AI to add to a FIFO queue.\n",
    "\n",
    "Feed the algorithm data, in waves (day and night and exposure to CCTV)\n",
    "\n",
    "Track lives saved, hospital appointments saved etc.\n",
    "\n",
    "Also, feedback what exposure required more - eg Talking at phone for 10 mins!\n"
   ]
  },
  {
   "cell_type": "code",
   "execution_count": null,
   "metadata": {},
   "outputs": [],
   "source": [
    "\n",
    "\n",
    "class Diagnostics():\n",
    "    def __init__(self, name, dwellings):\n",
    "        print(\"\\nEnvironment initialised\")\n",
    "        self.name = name\n",
    "        self.system_list = []\n",
    "        self.queue = []\n",
    "        self.suppliers = []\n",
    "        self.dwellings = dwellings\n",
    "        self.pv_area = 0\n",
    "\n",
    "    def add_panel(self, size):\n",
    "        self.pv_area += size"
   ]
  }
 ],
 "metadata": {
  "language_info": {
   "name": "python"
  },
  "orig_nbformat": 4
 },
 "nbformat": 4,
 "nbformat_minor": 2
}
