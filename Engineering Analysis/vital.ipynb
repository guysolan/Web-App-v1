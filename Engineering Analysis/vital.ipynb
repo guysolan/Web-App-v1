{
 "cells": [
  {
   "cell_type": "markdown",
   "metadata": {},
   "source": [
    "## Vitals\n",
    "\n",
    "### Heart Rate\n",
    "\n",
    " The mean real-world HR was 79.1 bpm ± 14.5. The 95th percentile of real-world HR was ≤110 in individuals aged 18–45, ≤100 in those aged 45–60 and ≤95 bpm in individuals older than 60 years old.\n",
    "\n",
    " [Source](https://www.ncbi.nlm.nih.gov/pmc/articles/PMC6592896/#:~:text=Several%20studies%2C%20as%20well%20as,between%2060%20and%20100%20bpm.)"
   ]
  },
  {
   "cell_type": "markdown",
   "metadata": {},
   "source": [
    "### Body Temperature\n",
    "\n",
    "[Source](https://www.bmj.com/content/359/bmj.j5468)\n",
    "\n",
    "Mean temperature was 36.6°C\n",
    "\n",
    "Standard Deviation 0.149°C\n",
    "\n",
    "Older people the coolest (–0.021°C per decade)"
   ]
  },
  {
   "cell_type": "markdown",
   "metadata": {},
   "source": [
    "90% of respiratory rate values for healthy adults fall within the range 11.8−19.2 min−1 with a mean value of 15.4 min−1"
   ]
  },
  {
   "cell_type": "code",
   "execution_count": null,
   "metadata": {},
   "outputs": [],
   "source": []
  },
  {
   "cell_type": "code",
   "execution_count": null,
   "metadata": {},
   "outputs": [],
   "source": []
  },
  {
   "cell_type": "code",
   "execution_count": 6,
   "metadata": {},
   "outputs": [
    {
     "data": {
      "text/plain": [
       "9542895666.168217"
      ]
     },
     "execution_count": 6,
     "metadata": {},
     "output_type": "execute_result"
    }
   ],
   "source": [
    "peopleSendingData = 50\n",
    "\n",
    "5*128*50\n",
    "\n",
    "95428956661682176/10000000\n",
    "\n",
    "\n"
   ]
  }
 ],
 "metadata": {
  "interpreter": {
   "hash": "efdca69d0ca37f3cd75811ff5af31778643cf0a6677105436e305cec4d2bd40a"
  },
  "kernelspec": {
   "display_name": "Python 3.8.3 64-bit",
   "language": "python",
   "name": "python3"
  },
  "language_info": {
   "codemirror_mode": {
    "name": "ipython",
    "version": 3
   },
   "file_extension": ".py",
   "mimetype": "text/x-python",
   "name": "python",
   "nbconvert_exporter": "python",
   "pygments_lexer": "ipython3",
   "version": "3.8.3"
  },
  "orig_nbformat": 4
 },
 "nbformat": 4,
 "nbformat_minor": 2
}
