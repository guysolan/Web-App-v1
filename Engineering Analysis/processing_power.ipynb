{
 "cells": [
  {
   "cell_type": "markdown",
   "metadata": {},
   "source": [
    "### Mobile Processing Power"
   ]
  },
  {
   "cell_type": "code",
   "execution_count": 15,
   "metadata": {},
   "outputs": [
    {
     "name": "stdout",
     "output_type": "stream",
     "text": [
      "80.75862708049995\n"
     ]
    }
   ],
   "source": [
    "iphone1_2007 = 0.412\n",
    "iphone12_2020 = 3.1\n",
    "\n",
    "CAGR_phone = (iphone12_2020/iphone1_2007)**(1/13)-1\n",
    "\n",
    "iphone_2041 = iphone12_2020*(1+CAGR_phone)**21"
   ]
  }
 ],
 "metadata": {
  "interpreter": {
   "hash": "efdca69d0ca37f3cd75811ff5af31778643cf0a6677105436e305cec4d2bd40a"
  },
  "kernelspec": {
   "display_name": "Python 3.8.3 64-bit",
   "language": "python",
   "name": "python3"
  },
  "language_info": {
   "name": "python",
   "version": "3.8.3"
  },
  "orig_nbformat": 4
 },
 "nbformat": 4,
 "nbformat_minor": 2
}
